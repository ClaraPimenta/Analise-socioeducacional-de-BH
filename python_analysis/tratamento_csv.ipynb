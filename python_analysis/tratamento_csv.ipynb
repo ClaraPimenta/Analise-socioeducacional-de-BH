{
 "cells": [
  {
   "cell_type": "code",
   "execution_count": null,
   "id": "ea973397",
   "metadata": {},
   "outputs": [],
   "source": [
    "import pandas as pd \n",
    "import numpy as np\n",
    "\n",
    "df = pd.read_csv('..data/censo_ibge/Agregados_por_bairros_demografia_BR/Agregados_por_bairros_demografia_BR.csv', encoding='latin1', sep=';', low_memory=False)\n",
    "\n",
    "# Substitui \".\" por NaN\n",
    "df.replace('.', np.nan, inplace=True)\n",
    "\n",
    "# Converte todas as colunas numéricas (exceto códigos de bairro, nomes etc.)\n",
    "for col in df.columns:\n",
    "    if col.startswith(\"V00\"):  # colunas numéricas com código V00xx\n",
    "        df[col] = pd.to_numeric(df[col], errors='coerce')\n",
    "\n",
    "# Garante que colunas de código não sejam tratadas como inteiro\n",
    "df['CD_BAIRRO'] = df['CD_BAIRRO'].astype(str)\n",
    "\n",
    "\n",
    "df.to_csv('../data/censo_ibge/bairros_demografia.csv', index=False)"
   ]
  },
  {
   "cell_type": "code",
   "execution_count": null,
   "id": "76ffe59b",
   "metadata": {},
   "outputs": [],
   "source": [
    "import pandas as pd \n",
    "import numpy as np\n",
    "\n",
    "df = pd.read_excel('../data/censo_ibge/Agregados_por_bairros_renda_responsavel_BR.xlsx')\n",
    "\n",
    "# Substitui \".\" por NaN\n",
    "df.replace('.', np.nan, inplace=True)\n",
    "\n",
    "# Converte todas as colunas numéricas (exceto códigos de bairro, nomes etc.)\n",
    "for col in df.columns:\n",
    "    if col.startswith(\"V00\"):  # colunas numéricas com código V00xx\n",
    "        df[col] = pd.to_numeric(df[col], errors='coerce')\n",
    "\n",
    "# Garante que colunas de código não sejam tratadas como inteiro\n",
    "df['CD_BAIRRO'] = df['CD_BAIRRO'].astype(str)\n",
    "\n",
    "df.to_csv('../data/censo_ibge/bairros_renda.csv', index=False)"
   ]
  }
 ],
 "metadata": {
  "kernelspec": {
   "display_name": "base",
   "language": "python",
   "name": "python3"
  },
  "language_info": {
   "codemirror_mode": {
    "name": "ipython",
    "version": 3
   },
   "file_extension": ".py",
   "mimetype": "text/x-python",
   "name": "python",
   "nbconvert_exporter": "python",
   "pygments_lexer": "ipython3",
   "version": "3.11.7"
  }
 },
 "nbformat": 4,
 "nbformat_minor": 5
}
